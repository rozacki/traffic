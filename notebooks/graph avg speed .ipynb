{
 "cells": [
  {
   "cell_type": "code",
   "execution_count": null,
   "metadata": {},
   "outputs": [],
   "source": [
    "graph avg speed during day from multiple sites"
   ]
  },
  {
   "cell_type": "code",
   "execution_count": 29,
   "metadata": {},
   "outputs": [
    {
     "name": "stdout",
     "output_type": "stream",
     "text": [
      "                        __time avg_speed  site\n",
      "0     2019-01-01T00:14:00.000Z        62    22\n",
      "1     2019-01-01T00:14:00.000Z        63    88\n",
      "2     2019-01-01T00:14:00.000Z        65    95\n",
      "3     2019-01-01T00:14:00.000Z        65     2\n",
      "4     2019-01-01T00:14:00.000Z        60    96\n",
      "...                        ...       ...   ...\n",
      "8347  2019-01-01T23:59:00.000Z              64\n",
      "8348  2019-01-01T23:59:00.000Z        66    18\n",
      "8349  2019-01-01T23:59:00.000Z        67    82\n",
      "8350  2019-01-01T23:59:00.000Z        68    13\n",
      "8351  2019-01-01T23:59:00.000Z              47\n",
      "\n",
      "[8352 rows x 3 columns]\n"
     ]
    }
   ],
   "source": [
    "from pydruid.db import connect\n",
    "import pandas as pd\n",
    "\n",
    "conn = connect(host='druid', port=8082, path='/druid/v2/sql/', scheme='http')\n",
    "curs = conn.cursor()\n",
    "query = '''\n",
    "select __time , \"Avg mph\" as \"avg_speed\", cast(\"Id\" as integer) \"site\" \n",
    "from \"400_sites_2016_2020\" where  \\'2019-01-01\\'< __time and __time <\\'2019-01-02\\' \n",
    "and cast(\"Id\" as integer) <100\n",
    "'''\n",
    "df = pd.read_sql_query(query,conn)\n",
    "groupedby = df.groupby(['site'])\n",
    "\n",
    "#print(df[\"site\"].unique())\n",
    "print(df)"
   ]
  },
  {
   "cell_type": "code",
   "execution_count": 28,
   "metadata": {},
   "outputs": [
    {
     "data": {
      "application/vnd.plotly.v1+json": {
       "config": {
        "plotlyServerURL": "https://plot.ly"
       },
       "data": [
        {
         "hovertemplate": "__time=%{x}<br>avg_speed=%{y}<extra></extra>",
         "legendgroup": "",
         "line": {
          "color": "#636efa",
          "dash": "solid"
         },
         "mode": "lines",
         "name": "",
         "showlegend": false,
         "type": "scatter",
         "x": [
          "2019-01-01T00:14:00.000Z",
          "2019-01-01T00:29:00.000Z",
          "2019-01-01T00:44:00.000Z",
          "2019-01-01T00:59:00.000Z",
          "2019-01-01T01:14:00.000Z",
          "2019-01-01T01:29:00.000Z",
          "2019-01-01T01:44:00.000Z",
          "2019-01-01T01:59:00.000Z",
          "2019-01-01T02:14:00.000Z",
          "2019-01-01T02:29:00.000Z",
          "2019-01-01T02:44:00.000Z",
          "2019-01-01T02:59:00.000Z",
          "2019-01-01T03:14:00.000Z",
          "2019-01-01T03:29:00.000Z",
          "2019-01-01T03:44:00.000Z",
          "2019-01-01T03:59:00.000Z",
          "2019-01-01T04:14:00.000Z",
          "2019-01-01T04:29:00.000Z",
          "2019-01-01T04:44:00.000Z",
          "2019-01-01T04:59:00.000Z",
          "2019-01-01T05:14:00.000Z",
          "2019-01-01T05:29:00.000Z",
          "2019-01-01T05:44:00.000Z",
          "2019-01-01T05:59:00.000Z",
          "2019-01-01T06:14:00.000Z",
          "2019-01-01T06:29:00.000Z",
          "2019-01-01T06:44:00.000Z",
          "2019-01-01T06:59:00.000Z",
          "2019-01-01T07:14:00.000Z",
          "2019-01-01T07:29:00.000Z",
          "2019-01-01T07:44:00.000Z",
          "2019-01-01T07:59:00.000Z",
          "2019-01-01T08:14:00.000Z",
          "2019-01-01T08:29:00.000Z",
          "2019-01-01T08:44:00.000Z",
          "2019-01-01T08:59:00.000Z",
          "2019-01-01T09:14:00.000Z",
          "2019-01-01T09:29:00.000Z",
          "2019-01-01T09:44:00.000Z",
          "2019-01-01T09:59:00.000Z",
          "2019-01-01T10:14:00.000Z",
          "2019-01-01T10:29:00.000Z",
          "2019-01-01T10:44:00.000Z",
          "2019-01-01T10:59:00.000Z",
          "2019-01-01T11:14:00.000Z",
          "2019-01-01T11:29:00.000Z",
          "2019-01-01T11:44:00.000Z",
          "2019-01-01T11:59:00.000Z",
          "2019-01-01T12:14:00.000Z",
          "2019-01-01T12:29:00.000Z",
          "2019-01-01T12:44:00.000Z",
          "2019-01-01T12:59:00.000Z",
          "2019-01-01T13:14:00.000Z",
          "2019-01-01T13:29:00.000Z",
          "2019-01-01T13:44:00.000Z",
          "2019-01-01T13:59:00.000Z",
          "2019-01-01T14:14:00.000Z",
          "2019-01-01T14:29:00.000Z",
          "2019-01-01T14:44:00.000Z",
          "2019-01-01T14:59:00.000Z",
          "2019-01-01T15:14:00.000Z",
          "2019-01-01T15:29:00.000Z",
          "2019-01-01T15:44:00.000Z",
          "2019-01-01T15:59:00.000Z",
          "2019-01-01T16:14:00.000Z",
          "2019-01-01T16:29:00.000Z",
          "2019-01-01T16:44:00.000Z",
          "2019-01-01T16:59:00.000Z",
          "2019-01-01T17:14:00.000Z",
          "2019-01-01T17:29:00.000Z",
          "2019-01-01T17:44:00.000Z",
          "2019-01-01T17:59:00.000Z",
          "2019-01-01T18:14:00.000Z",
          "2019-01-01T18:29:00.000Z",
          "2019-01-01T18:44:00.000Z",
          "2019-01-01T18:59:00.000Z",
          "2019-01-01T19:14:00.000Z",
          "2019-01-01T19:29:00.000Z",
          "2019-01-01T19:44:00.000Z",
          "2019-01-01T19:59:00.000Z",
          "2019-01-01T20:14:00.000Z",
          "2019-01-01T20:29:00.000Z",
          "2019-01-01T20:44:00.000Z",
          "2019-01-01T20:59:00.000Z",
          "2019-01-01T21:14:00.000Z",
          "2019-01-01T21:29:00.000Z",
          "2019-01-01T21:44:00.000Z",
          "2019-01-01T21:59:00.000Z",
          "2019-01-01T22:14:00.000Z",
          "2019-01-01T22:29:00.000Z",
          "2019-01-01T22:44:00.000Z",
          "2019-01-01T22:59:00.000Z",
          "2019-01-01T23:14:00.000Z",
          "2019-01-01T23:29:00.000Z",
          "2019-01-01T23:44:00.000Z",
          "2019-01-01T23:59:00.000Z"
         ],
         "xaxis": "x",
         "y": [
          "52",
          "50",
          "49",
          "48",
          "48",
          "50",
          "48",
          "48",
          "48",
          "52",
          "49",
          "48",
          "53",
          "49",
          "50",
          "53",
          "51",
          "48",
          "48",
          "51",
          "51",
          "51",
          "49",
          "53",
          "50",
          "48",
          "48",
          "49",
          "47",
          "50",
          "50",
          "49",
          "52",
          "53",
          "50",
          "51",
          "51",
          "50",
          "50",
          "50",
          "50",
          "50",
          "49",
          "48",
          "49",
          "48",
          "49",
          "50",
          "49",
          "50",
          "49",
          "50",
          "50",
          "51",
          "50",
          "48",
          "49",
          "48",
          "50",
          "48",
          "49",
          "50",
          "50",
          "50",
          "49",
          "47",
          "50",
          "48",
          "49",
          "49",
          "49",
          "47",
          "48",
          "48",
          "49",
          "48",
          "49",
          "48",
          "49",
          "49",
          "49",
          "51",
          "48",
          "50",
          "50",
          "49",
          "48",
          "50",
          "50",
          "48",
          "50",
          "50",
          "48",
          "48",
          "47",
          "52"
         ],
         "yaxis": "y"
        }
       ],
       "layout": {
        "legend": {
         "tracegroupgap": 0
        },
        "margin": {
         "t": 60
        },
        "template": {
         "data": {
          "bar": [
           {
            "error_x": {
             "color": "#2a3f5f"
            },
            "error_y": {
             "color": "#2a3f5f"
            },
            "marker": {
             "line": {
              "color": "#E5ECF6",
              "width": 0.5
             }
            },
            "type": "bar"
           }
          ],
          "barpolar": [
           {
            "marker": {
             "line": {
              "color": "#E5ECF6",
              "width": 0.5
             }
            },
            "type": "barpolar"
           }
          ],
          "carpet": [
           {
            "aaxis": {
             "endlinecolor": "#2a3f5f",
             "gridcolor": "white",
             "linecolor": "white",
             "minorgridcolor": "white",
             "startlinecolor": "#2a3f5f"
            },
            "baxis": {
             "endlinecolor": "#2a3f5f",
             "gridcolor": "white",
             "linecolor": "white",
             "minorgridcolor": "white",
             "startlinecolor": "#2a3f5f"
            },
            "type": "carpet"
           }
          ],
          "choropleth": [
           {
            "colorbar": {
             "outlinewidth": 0,
             "ticks": ""
            },
            "type": "choropleth"
           }
          ],
          "contour": [
           {
            "colorbar": {
             "outlinewidth": 0,
             "ticks": ""
            },
            "colorscale": [
             [
              0,
              "#0d0887"
             ],
             [
              0.1111111111111111,
              "#46039f"
             ],
             [
              0.2222222222222222,
              "#7201a8"
             ],
             [
              0.3333333333333333,
              "#9c179e"
             ],
             [
              0.4444444444444444,
              "#bd3786"
             ],
             [
              0.5555555555555556,
              "#d8576b"
             ],
             [
              0.6666666666666666,
              "#ed7953"
             ],
             [
              0.7777777777777778,
              "#fb9f3a"
             ],
             [
              0.8888888888888888,
              "#fdca26"
             ],
             [
              1,
              "#f0f921"
             ]
            ],
            "type": "contour"
           }
          ],
          "contourcarpet": [
           {
            "colorbar": {
             "outlinewidth": 0,
             "ticks": ""
            },
            "type": "contourcarpet"
           }
          ],
          "heatmap": [
           {
            "colorbar": {
             "outlinewidth": 0,
             "ticks": ""
            },
            "colorscale": [
             [
              0,
              "#0d0887"
             ],
             [
              0.1111111111111111,
              "#46039f"
             ],
             [
              0.2222222222222222,
              "#7201a8"
             ],
             [
              0.3333333333333333,
              "#9c179e"
             ],
             [
              0.4444444444444444,
              "#bd3786"
             ],
             [
              0.5555555555555556,
              "#d8576b"
             ],
             [
              0.6666666666666666,
              "#ed7953"
             ],
             [
              0.7777777777777778,
              "#fb9f3a"
             ],
             [
              0.8888888888888888,
              "#fdca26"
             ],
             [
              1,
              "#f0f921"
             ]
            ],
            "type": "heatmap"
           }
          ],
          "heatmapgl": [
           {
            "colorbar": {
             "outlinewidth": 0,
             "ticks": ""
            },
            "colorscale": [
             [
              0,
              "#0d0887"
             ],
             [
              0.1111111111111111,
              "#46039f"
             ],
             [
              0.2222222222222222,
              "#7201a8"
             ],
             [
              0.3333333333333333,
              "#9c179e"
             ],
             [
              0.4444444444444444,
              "#bd3786"
             ],
             [
              0.5555555555555556,
              "#d8576b"
             ],
             [
              0.6666666666666666,
              "#ed7953"
             ],
             [
              0.7777777777777778,
              "#fb9f3a"
             ],
             [
              0.8888888888888888,
              "#fdca26"
             ],
             [
              1,
              "#f0f921"
             ]
            ],
            "type": "heatmapgl"
           }
          ],
          "histogram": [
           {
            "marker": {
             "colorbar": {
              "outlinewidth": 0,
              "ticks": ""
             }
            },
            "type": "histogram"
           }
          ],
          "histogram2d": [
           {
            "colorbar": {
             "outlinewidth": 0,
             "ticks": ""
            },
            "colorscale": [
             [
              0,
              "#0d0887"
             ],
             [
              0.1111111111111111,
              "#46039f"
             ],
             [
              0.2222222222222222,
              "#7201a8"
             ],
             [
              0.3333333333333333,
              "#9c179e"
             ],
             [
              0.4444444444444444,
              "#bd3786"
             ],
             [
              0.5555555555555556,
              "#d8576b"
             ],
             [
              0.6666666666666666,
              "#ed7953"
             ],
             [
              0.7777777777777778,
              "#fb9f3a"
             ],
             [
              0.8888888888888888,
              "#fdca26"
             ],
             [
              1,
              "#f0f921"
             ]
            ],
            "type": "histogram2d"
           }
          ],
          "histogram2dcontour": [
           {
            "colorbar": {
             "outlinewidth": 0,
             "ticks": ""
            },
            "colorscale": [
             [
              0,
              "#0d0887"
             ],
             [
              0.1111111111111111,
              "#46039f"
             ],
             [
              0.2222222222222222,
              "#7201a8"
             ],
             [
              0.3333333333333333,
              "#9c179e"
             ],
             [
              0.4444444444444444,
              "#bd3786"
             ],
             [
              0.5555555555555556,
              "#d8576b"
             ],
             [
              0.6666666666666666,
              "#ed7953"
             ],
             [
              0.7777777777777778,
              "#fb9f3a"
             ],
             [
              0.8888888888888888,
              "#fdca26"
             ],
             [
              1,
              "#f0f921"
             ]
            ],
            "type": "histogram2dcontour"
           }
          ],
          "mesh3d": [
           {
            "colorbar": {
             "outlinewidth": 0,
             "ticks": ""
            },
            "type": "mesh3d"
           }
          ],
          "parcoords": [
           {
            "line": {
             "colorbar": {
              "outlinewidth": 0,
              "ticks": ""
             }
            },
            "type": "parcoords"
           }
          ],
          "pie": [
           {
            "automargin": true,
            "type": "pie"
           }
          ],
          "scatter": [
           {
            "marker": {
             "colorbar": {
              "outlinewidth": 0,
              "ticks": ""
             }
            },
            "type": "scatter"
           }
          ],
          "scatter3d": [
           {
            "line": {
             "colorbar": {
              "outlinewidth": 0,
              "ticks": ""
             }
            },
            "marker": {
             "colorbar": {
              "outlinewidth": 0,
              "ticks": ""
             }
            },
            "type": "scatter3d"
           }
          ],
          "scattercarpet": [
           {
            "marker": {
             "colorbar": {
              "outlinewidth": 0,
              "ticks": ""
             }
            },
            "type": "scattercarpet"
           }
          ],
          "scattergeo": [
           {
            "marker": {
             "colorbar": {
              "outlinewidth": 0,
              "ticks": ""
             }
            },
            "type": "scattergeo"
           }
          ],
          "scattergl": [
           {
            "marker": {
             "colorbar": {
              "outlinewidth": 0,
              "ticks": ""
             }
            },
            "type": "scattergl"
           }
          ],
          "scattermapbox": [
           {
            "marker": {
             "colorbar": {
              "outlinewidth": 0,
              "ticks": ""
             }
            },
            "type": "scattermapbox"
           }
          ],
          "scatterpolar": [
           {
            "marker": {
             "colorbar": {
              "outlinewidth": 0,
              "ticks": ""
             }
            },
            "type": "scatterpolar"
           }
          ],
          "scatterpolargl": [
           {
            "marker": {
             "colorbar": {
              "outlinewidth": 0,
              "ticks": ""
             }
            },
            "type": "scatterpolargl"
           }
          ],
          "scatterternary": [
           {
            "marker": {
             "colorbar": {
              "outlinewidth": 0,
              "ticks": ""
             }
            },
            "type": "scatterternary"
           }
          ],
          "surface": [
           {
            "colorbar": {
             "outlinewidth": 0,
             "ticks": ""
            },
            "colorscale": [
             [
              0,
              "#0d0887"
             ],
             [
              0.1111111111111111,
              "#46039f"
             ],
             [
              0.2222222222222222,
              "#7201a8"
             ],
             [
              0.3333333333333333,
              "#9c179e"
             ],
             [
              0.4444444444444444,
              "#bd3786"
             ],
             [
              0.5555555555555556,
              "#d8576b"
             ],
             [
              0.6666666666666666,
              "#ed7953"
             ],
             [
              0.7777777777777778,
              "#fb9f3a"
             ],
             [
              0.8888888888888888,
              "#fdca26"
             ],
             [
              1,
              "#f0f921"
             ]
            ],
            "type": "surface"
           }
          ],
          "table": [
           {
            "cells": {
             "fill": {
              "color": "#EBF0F8"
             },
             "line": {
              "color": "white"
             }
            },
            "header": {
             "fill": {
              "color": "#C8D4E3"
             },
             "line": {
              "color": "white"
             }
            },
            "type": "table"
           }
          ]
         },
         "layout": {
          "annotationdefaults": {
           "arrowcolor": "#2a3f5f",
           "arrowhead": 0,
           "arrowwidth": 1
          },
          "coloraxis": {
           "colorbar": {
            "outlinewidth": 0,
            "ticks": ""
           }
          },
          "colorscale": {
           "diverging": [
            [
             0,
             "#8e0152"
            ],
            [
             0.1,
             "#c51b7d"
            ],
            [
             0.2,
             "#de77ae"
            ],
            [
             0.3,
             "#f1b6da"
            ],
            [
             0.4,
             "#fde0ef"
            ],
            [
             0.5,
             "#f7f7f7"
            ],
            [
             0.6,
             "#e6f5d0"
            ],
            [
             0.7,
             "#b8e186"
            ],
            [
             0.8,
             "#7fbc41"
            ],
            [
             0.9,
             "#4d9221"
            ],
            [
             1,
             "#276419"
            ]
           ],
           "sequential": [
            [
             0,
             "#0d0887"
            ],
            [
             0.1111111111111111,
             "#46039f"
            ],
            [
             0.2222222222222222,
             "#7201a8"
            ],
            [
             0.3333333333333333,
             "#9c179e"
            ],
            [
             0.4444444444444444,
             "#bd3786"
            ],
            [
             0.5555555555555556,
             "#d8576b"
            ],
            [
             0.6666666666666666,
             "#ed7953"
            ],
            [
             0.7777777777777778,
             "#fb9f3a"
            ],
            [
             0.8888888888888888,
             "#fdca26"
            ],
            [
             1,
             "#f0f921"
            ]
           ],
           "sequentialminus": [
            [
             0,
             "#0d0887"
            ],
            [
             0.1111111111111111,
             "#46039f"
            ],
            [
             0.2222222222222222,
             "#7201a8"
            ],
            [
             0.3333333333333333,
             "#9c179e"
            ],
            [
             0.4444444444444444,
             "#bd3786"
            ],
            [
             0.5555555555555556,
             "#d8576b"
            ],
            [
             0.6666666666666666,
             "#ed7953"
            ],
            [
             0.7777777777777778,
             "#fb9f3a"
            ],
            [
             0.8888888888888888,
             "#fdca26"
            ],
            [
             1,
             "#f0f921"
            ]
           ]
          },
          "colorway": [
           "#636efa",
           "#EF553B",
           "#00cc96",
           "#ab63fa",
           "#FFA15A",
           "#19d3f3",
           "#FF6692",
           "#B6E880",
           "#FF97FF",
           "#FECB52"
          ],
          "font": {
           "color": "#2a3f5f"
          },
          "geo": {
           "bgcolor": "white",
           "lakecolor": "white",
           "landcolor": "#E5ECF6",
           "showlakes": true,
           "showland": true,
           "subunitcolor": "white"
          },
          "hoverlabel": {
           "align": "left"
          },
          "hovermode": "closest",
          "mapbox": {
           "style": "light"
          },
          "paper_bgcolor": "white",
          "plot_bgcolor": "#E5ECF6",
          "polar": {
           "angularaxis": {
            "gridcolor": "white",
            "linecolor": "white",
            "ticks": ""
           },
           "bgcolor": "#E5ECF6",
           "radialaxis": {
            "gridcolor": "white",
            "linecolor": "white",
            "ticks": ""
           }
          },
          "scene": {
           "xaxis": {
            "backgroundcolor": "#E5ECF6",
            "gridcolor": "white",
            "gridwidth": 2,
            "linecolor": "white",
            "showbackground": true,
            "ticks": "",
            "zerolinecolor": "white"
           },
           "yaxis": {
            "backgroundcolor": "#E5ECF6",
            "gridcolor": "white",
            "gridwidth": 2,
            "linecolor": "white",
            "showbackground": true,
            "ticks": "",
            "zerolinecolor": "white"
           },
           "zaxis": {
            "backgroundcolor": "#E5ECF6",
            "gridcolor": "white",
            "gridwidth": 2,
            "linecolor": "white",
            "showbackground": true,
            "ticks": "",
            "zerolinecolor": "white"
           }
          },
          "shapedefaults": {
           "line": {
            "color": "#2a3f5f"
           }
          },
          "ternary": {
           "aaxis": {
            "gridcolor": "white",
            "linecolor": "white",
            "ticks": ""
           },
           "baxis": {
            "gridcolor": "white",
            "linecolor": "white",
            "ticks": ""
           },
           "bgcolor": "#E5ECF6",
           "caxis": {
            "gridcolor": "white",
            "linecolor": "white",
            "ticks": ""
           }
          },
          "title": {
           "x": 0.05
          },
          "xaxis": {
           "automargin": true,
           "gridcolor": "white",
           "linecolor": "white",
           "ticks": "",
           "title": {
            "standoff": 15
           },
           "zerolinecolor": "white",
           "zerolinewidth": 2
          },
          "yaxis": {
           "automargin": true,
           "gridcolor": "white",
           "linecolor": "white",
           "ticks": "",
           "title": {
            "standoff": 15
           },
           "zerolinecolor": "white",
           "zerolinewidth": 2
          }
         }
        },
        "xaxis": {
         "anchor": "y",
         "domain": [
          0,
          1
         ],
         "title": {
          "text": "__time"
         }
        },
        "yaxis": {
         "anchor": "x",
         "domain": [
          0,
          1
         ],
         "title": {
          "text": "avg_speed"
         }
        }
       }
      },
      "text/html": [
       "<div>\n",
       "        \n",
       "        \n",
       "            <div id=\"91001f44-df54-4ee1-93ea-1547200263a7\" class=\"plotly-graph-div\" style=\"height:525px; width:100%;\"></div>\n",
       "            <script type=\"text/javascript\">\n",
       "                require([\"plotly\"], function(Plotly) {\n",
       "                    window.PLOTLYENV=window.PLOTLYENV || {};\n",
       "                    \n",
       "                if (document.getElementById(\"91001f44-df54-4ee1-93ea-1547200263a7\")) {\n",
       "                    Plotly.newPlot(\n",
       "                        '91001f44-df54-4ee1-93ea-1547200263a7',\n",
       "                        [{\"hovertemplate\": \"__time=%{x}<br>avg_speed=%{y}<extra></extra>\", \"legendgroup\": \"\", \"line\": {\"color\": \"#636efa\", \"dash\": \"solid\"}, \"mode\": \"lines\", \"name\": \"\", \"showlegend\": false, \"type\": \"scatter\", \"x\": [\"2019-01-01T00:14:00.000Z\", \"2019-01-01T00:29:00.000Z\", \"2019-01-01T00:44:00.000Z\", \"2019-01-01T00:59:00.000Z\", \"2019-01-01T01:14:00.000Z\", \"2019-01-01T01:29:00.000Z\", \"2019-01-01T01:44:00.000Z\", \"2019-01-01T01:59:00.000Z\", \"2019-01-01T02:14:00.000Z\", \"2019-01-01T02:29:00.000Z\", \"2019-01-01T02:44:00.000Z\", \"2019-01-01T02:59:00.000Z\", \"2019-01-01T03:14:00.000Z\", \"2019-01-01T03:29:00.000Z\", \"2019-01-01T03:44:00.000Z\", \"2019-01-01T03:59:00.000Z\", \"2019-01-01T04:14:00.000Z\", \"2019-01-01T04:29:00.000Z\", \"2019-01-01T04:44:00.000Z\", \"2019-01-01T04:59:00.000Z\", \"2019-01-01T05:14:00.000Z\", \"2019-01-01T05:29:00.000Z\", \"2019-01-01T05:44:00.000Z\", \"2019-01-01T05:59:00.000Z\", \"2019-01-01T06:14:00.000Z\", \"2019-01-01T06:29:00.000Z\", \"2019-01-01T06:44:00.000Z\", \"2019-01-01T06:59:00.000Z\", \"2019-01-01T07:14:00.000Z\", \"2019-01-01T07:29:00.000Z\", \"2019-01-01T07:44:00.000Z\", \"2019-01-01T07:59:00.000Z\", \"2019-01-01T08:14:00.000Z\", \"2019-01-01T08:29:00.000Z\", \"2019-01-01T08:44:00.000Z\", \"2019-01-01T08:59:00.000Z\", \"2019-01-01T09:14:00.000Z\", \"2019-01-01T09:29:00.000Z\", \"2019-01-01T09:44:00.000Z\", \"2019-01-01T09:59:00.000Z\", \"2019-01-01T10:14:00.000Z\", \"2019-01-01T10:29:00.000Z\", \"2019-01-01T10:44:00.000Z\", \"2019-01-01T10:59:00.000Z\", \"2019-01-01T11:14:00.000Z\", \"2019-01-01T11:29:00.000Z\", \"2019-01-01T11:44:00.000Z\", \"2019-01-01T11:59:00.000Z\", \"2019-01-01T12:14:00.000Z\", \"2019-01-01T12:29:00.000Z\", \"2019-01-01T12:44:00.000Z\", \"2019-01-01T12:59:00.000Z\", \"2019-01-01T13:14:00.000Z\", \"2019-01-01T13:29:00.000Z\", \"2019-01-01T13:44:00.000Z\", \"2019-01-01T13:59:00.000Z\", \"2019-01-01T14:14:00.000Z\", \"2019-01-01T14:29:00.000Z\", \"2019-01-01T14:44:00.000Z\", \"2019-01-01T14:59:00.000Z\", \"2019-01-01T15:14:00.000Z\", \"2019-01-01T15:29:00.000Z\", \"2019-01-01T15:44:00.000Z\", \"2019-01-01T15:59:00.000Z\", \"2019-01-01T16:14:00.000Z\", \"2019-01-01T16:29:00.000Z\", \"2019-01-01T16:44:00.000Z\", \"2019-01-01T16:59:00.000Z\", \"2019-01-01T17:14:00.000Z\", \"2019-01-01T17:29:00.000Z\", \"2019-01-01T17:44:00.000Z\", \"2019-01-01T17:59:00.000Z\", \"2019-01-01T18:14:00.000Z\", \"2019-01-01T18:29:00.000Z\", \"2019-01-01T18:44:00.000Z\", \"2019-01-01T18:59:00.000Z\", \"2019-01-01T19:14:00.000Z\", \"2019-01-01T19:29:00.000Z\", \"2019-01-01T19:44:00.000Z\", \"2019-01-01T19:59:00.000Z\", \"2019-01-01T20:14:00.000Z\", \"2019-01-01T20:29:00.000Z\", \"2019-01-01T20:44:00.000Z\", \"2019-01-01T20:59:00.000Z\", \"2019-01-01T21:14:00.000Z\", \"2019-01-01T21:29:00.000Z\", \"2019-01-01T21:44:00.000Z\", \"2019-01-01T21:59:00.000Z\", \"2019-01-01T22:14:00.000Z\", \"2019-01-01T22:29:00.000Z\", \"2019-01-01T22:44:00.000Z\", \"2019-01-01T22:59:00.000Z\", \"2019-01-01T23:14:00.000Z\", \"2019-01-01T23:29:00.000Z\", \"2019-01-01T23:44:00.000Z\", \"2019-01-01T23:59:00.000Z\"], \"xaxis\": \"x\", \"y\": [\"52\", \"50\", \"49\", \"48\", \"48\", \"50\", \"48\", \"48\", \"48\", \"52\", \"49\", \"48\", \"53\", \"49\", \"50\", \"53\", \"51\", \"48\", \"48\", \"51\", \"51\", \"51\", \"49\", \"53\", \"50\", \"48\", \"48\", \"49\", \"47\", \"50\", \"50\", \"49\", \"52\", \"53\", \"50\", \"51\", \"51\", \"50\", \"50\", \"50\", \"50\", \"50\", \"49\", \"48\", \"49\", \"48\", \"49\", \"50\", \"49\", \"50\", \"49\", \"50\", \"50\", \"51\", \"50\", \"48\", \"49\", \"48\", \"50\", \"48\", \"49\", \"50\", \"50\", \"50\", \"49\", \"47\", \"50\", \"48\", \"49\", \"49\", \"49\", \"47\", \"48\", \"48\", \"49\", \"48\", \"49\", \"48\", \"49\", \"49\", \"49\", \"51\", \"48\", \"50\", \"50\", \"49\", \"48\", \"50\", \"50\", \"48\", \"50\", \"50\", \"48\", \"48\", \"47\", \"52\"], \"yaxis\": \"y\"}],\n",
       "                        {\"legend\": {\"tracegroupgap\": 0}, \"margin\": {\"t\": 60}, \"template\": {\"data\": {\"bar\": [{\"error_x\": {\"color\": \"#2a3f5f\"}, \"error_y\": {\"color\": \"#2a3f5f\"}, \"marker\": {\"line\": {\"color\": \"#E5ECF6\", \"width\": 0.5}}, \"type\": \"bar\"}], \"barpolar\": [{\"marker\": {\"line\": {\"color\": \"#E5ECF6\", \"width\": 0.5}}, \"type\": \"barpolar\"}], \"carpet\": [{\"aaxis\": {\"endlinecolor\": \"#2a3f5f\", \"gridcolor\": \"white\", \"linecolor\": \"white\", \"minorgridcolor\": \"white\", \"startlinecolor\": \"#2a3f5f\"}, \"baxis\": {\"endlinecolor\": \"#2a3f5f\", \"gridcolor\": \"white\", \"linecolor\": \"white\", \"minorgridcolor\": \"white\", \"startlinecolor\": \"#2a3f5f\"}, \"type\": \"carpet\"}], \"choropleth\": [{\"colorbar\": {\"outlinewidth\": 0, \"ticks\": \"\"}, \"type\": \"choropleth\"}], \"contour\": [{\"colorbar\": {\"outlinewidth\": 0, \"ticks\": \"\"}, \"colorscale\": [[0.0, \"#0d0887\"], [0.1111111111111111, \"#46039f\"], [0.2222222222222222, \"#7201a8\"], [0.3333333333333333, \"#9c179e\"], [0.4444444444444444, \"#bd3786\"], [0.5555555555555556, \"#d8576b\"], [0.6666666666666666, \"#ed7953\"], [0.7777777777777778, \"#fb9f3a\"], [0.8888888888888888, \"#fdca26\"], [1.0, \"#f0f921\"]], \"type\": \"contour\"}], \"contourcarpet\": [{\"colorbar\": {\"outlinewidth\": 0, \"ticks\": \"\"}, \"type\": \"contourcarpet\"}], \"heatmap\": [{\"colorbar\": {\"outlinewidth\": 0, \"ticks\": \"\"}, \"colorscale\": [[0.0, \"#0d0887\"], [0.1111111111111111, \"#46039f\"], [0.2222222222222222, \"#7201a8\"], [0.3333333333333333, \"#9c179e\"], [0.4444444444444444, \"#bd3786\"], [0.5555555555555556, \"#d8576b\"], [0.6666666666666666, \"#ed7953\"], [0.7777777777777778, \"#fb9f3a\"], [0.8888888888888888, \"#fdca26\"], [1.0, \"#f0f921\"]], \"type\": \"heatmap\"}], \"heatmapgl\": [{\"colorbar\": {\"outlinewidth\": 0, \"ticks\": \"\"}, \"colorscale\": [[0.0, \"#0d0887\"], [0.1111111111111111, \"#46039f\"], [0.2222222222222222, \"#7201a8\"], [0.3333333333333333, \"#9c179e\"], [0.4444444444444444, \"#bd3786\"], [0.5555555555555556, \"#d8576b\"], [0.6666666666666666, \"#ed7953\"], [0.7777777777777778, \"#fb9f3a\"], [0.8888888888888888, \"#fdca26\"], [1.0, \"#f0f921\"]], \"type\": \"heatmapgl\"}], \"histogram\": [{\"marker\": {\"colorbar\": {\"outlinewidth\": 0, \"ticks\": \"\"}}, \"type\": \"histogram\"}], \"histogram2d\": [{\"colorbar\": {\"outlinewidth\": 0, \"ticks\": \"\"}, \"colorscale\": [[0.0, \"#0d0887\"], [0.1111111111111111, \"#46039f\"], [0.2222222222222222, \"#7201a8\"], [0.3333333333333333, \"#9c179e\"], [0.4444444444444444, \"#bd3786\"], [0.5555555555555556, \"#d8576b\"], [0.6666666666666666, \"#ed7953\"], [0.7777777777777778, \"#fb9f3a\"], [0.8888888888888888, \"#fdca26\"], [1.0, \"#f0f921\"]], \"type\": \"histogram2d\"}], \"histogram2dcontour\": [{\"colorbar\": {\"outlinewidth\": 0, \"ticks\": \"\"}, \"colorscale\": [[0.0, \"#0d0887\"], [0.1111111111111111, \"#46039f\"], [0.2222222222222222, \"#7201a8\"], [0.3333333333333333, \"#9c179e\"], [0.4444444444444444, \"#bd3786\"], [0.5555555555555556, \"#d8576b\"], [0.6666666666666666, \"#ed7953\"], [0.7777777777777778, \"#fb9f3a\"], [0.8888888888888888, \"#fdca26\"], [1.0, \"#f0f921\"]], \"type\": \"histogram2dcontour\"}], \"mesh3d\": [{\"colorbar\": {\"outlinewidth\": 0, \"ticks\": \"\"}, \"type\": \"mesh3d\"}], \"parcoords\": [{\"line\": {\"colorbar\": {\"outlinewidth\": 0, \"ticks\": \"\"}}, \"type\": \"parcoords\"}], \"pie\": [{\"automargin\": true, \"type\": \"pie\"}], \"scatter\": [{\"marker\": {\"colorbar\": {\"outlinewidth\": 0, \"ticks\": \"\"}}, \"type\": \"scatter\"}], \"scatter3d\": [{\"line\": {\"colorbar\": {\"outlinewidth\": 0, \"ticks\": \"\"}}, \"marker\": {\"colorbar\": {\"outlinewidth\": 0, \"ticks\": \"\"}}, \"type\": \"scatter3d\"}], \"scattercarpet\": [{\"marker\": {\"colorbar\": {\"outlinewidth\": 0, \"ticks\": \"\"}}, \"type\": \"scattercarpet\"}], \"scattergeo\": [{\"marker\": {\"colorbar\": {\"outlinewidth\": 0, \"ticks\": \"\"}}, \"type\": \"scattergeo\"}], \"scattergl\": [{\"marker\": {\"colorbar\": {\"outlinewidth\": 0, \"ticks\": \"\"}}, \"type\": \"scattergl\"}], \"scattermapbox\": [{\"marker\": {\"colorbar\": {\"outlinewidth\": 0, \"ticks\": \"\"}}, \"type\": \"scattermapbox\"}], \"scatterpolar\": [{\"marker\": {\"colorbar\": {\"outlinewidth\": 0, \"ticks\": \"\"}}, \"type\": \"scatterpolar\"}], \"scatterpolargl\": [{\"marker\": {\"colorbar\": {\"outlinewidth\": 0, \"ticks\": \"\"}}, \"type\": \"scatterpolargl\"}], \"scatterternary\": [{\"marker\": {\"colorbar\": {\"outlinewidth\": 0, \"ticks\": \"\"}}, \"type\": \"scatterternary\"}], \"surface\": [{\"colorbar\": {\"outlinewidth\": 0, \"ticks\": \"\"}, \"colorscale\": [[0.0, \"#0d0887\"], [0.1111111111111111, \"#46039f\"], [0.2222222222222222, \"#7201a8\"], [0.3333333333333333, \"#9c179e\"], [0.4444444444444444, \"#bd3786\"], [0.5555555555555556, \"#d8576b\"], [0.6666666666666666, \"#ed7953\"], [0.7777777777777778, \"#fb9f3a\"], [0.8888888888888888, \"#fdca26\"], [1.0, \"#f0f921\"]], \"type\": \"surface\"}], \"table\": [{\"cells\": {\"fill\": {\"color\": \"#EBF0F8\"}, \"line\": {\"color\": \"white\"}}, \"header\": {\"fill\": {\"color\": \"#C8D4E3\"}, \"line\": {\"color\": \"white\"}}, \"type\": \"table\"}]}, \"layout\": {\"annotationdefaults\": {\"arrowcolor\": \"#2a3f5f\", \"arrowhead\": 0, \"arrowwidth\": 1}, \"coloraxis\": {\"colorbar\": {\"outlinewidth\": 0, \"ticks\": \"\"}}, \"colorscale\": {\"diverging\": [[0, \"#8e0152\"], [0.1, \"#c51b7d\"], [0.2, \"#de77ae\"], [0.3, \"#f1b6da\"], [0.4, \"#fde0ef\"], [0.5, \"#f7f7f7\"], [0.6, \"#e6f5d0\"], [0.7, \"#b8e186\"], [0.8, \"#7fbc41\"], [0.9, \"#4d9221\"], [1, \"#276419\"]], \"sequential\": [[0.0, \"#0d0887\"], [0.1111111111111111, \"#46039f\"], [0.2222222222222222, \"#7201a8\"], [0.3333333333333333, \"#9c179e\"], [0.4444444444444444, \"#bd3786\"], [0.5555555555555556, \"#d8576b\"], [0.6666666666666666, \"#ed7953\"], [0.7777777777777778, \"#fb9f3a\"], [0.8888888888888888, \"#fdca26\"], [1.0, \"#f0f921\"]], \"sequentialminus\": [[0.0, \"#0d0887\"], [0.1111111111111111, \"#46039f\"], [0.2222222222222222, \"#7201a8\"], [0.3333333333333333, \"#9c179e\"], [0.4444444444444444, \"#bd3786\"], [0.5555555555555556, \"#d8576b\"], [0.6666666666666666, \"#ed7953\"], [0.7777777777777778, \"#fb9f3a\"], [0.8888888888888888, \"#fdca26\"], [1.0, \"#f0f921\"]]}, \"colorway\": [\"#636efa\", \"#EF553B\", \"#00cc96\", \"#ab63fa\", \"#FFA15A\", \"#19d3f3\", \"#FF6692\", \"#B6E880\", \"#FF97FF\", \"#FECB52\"], \"font\": {\"color\": \"#2a3f5f\"}, \"geo\": {\"bgcolor\": \"white\", \"lakecolor\": \"white\", \"landcolor\": \"#E5ECF6\", \"showlakes\": true, \"showland\": true, \"subunitcolor\": \"white\"}, \"hoverlabel\": {\"align\": \"left\"}, \"hovermode\": \"closest\", \"mapbox\": {\"style\": \"light\"}, \"paper_bgcolor\": \"white\", \"plot_bgcolor\": \"#E5ECF6\", \"polar\": {\"angularaxis\": {\"gridcolor\": \"white\", \"linecolor\": \"white\", \"ticks\": \"\"}, \"bgcolor\": \"#E5ECF6\", \"radialaxis\": {\"gridcolor\": \"white\", \"linecolor\": \"white\", \"ticks\": \"\"}}, \"scene\": {\"xaxis\": {\"backgroundcolor\": \"#E5ECF6\", \"gridcolor\": \"white\", \"gridwidth\": 2, \"linecolor\": \"white\", \"showbackground\": true, \"ticks\": \"\", \"zerolinecolor\": \"white\"}, \"yaxis\": {\"backgroundcolor\": \"#E5ECF6\", \"gridcolor\": \"white\", \"gridwidth\": 2, \"linecolor\": \"white\", \"showbackground\": true, \"ticks\": \"\", \"zerolinecolor\": \"white\"}, \"zaxis\": {\"backgroundcolor\": \"#E5ECF6\", \"gridcolor\": \"white\", \"gridwidth\": 2, \"linecolor\": \"white\", \"showbackground\": true, \"ticks\": \"\", \"zerolinecolor\": \"white\"}}, \"shapedefaults\": {\"line\": {\"color\": \"#2a3f5f\"}}, \"ternary\": {\"aaxis\": {\"gridcolor\": \"white\", \"linecolor\": \"white\", \"ticks\": \"\"}, \"baxis\": {\"gridcolor\": \"white\", \"linecolor\": \"white\", \"ticks\": \"\"}, \"bgcolor\": \"#E5ECF6\", \"caxis\": {\"gridcolor\": \"white\", \"linecolor\": \"white\", \"ticks\": \"\"}}, \"title\": {\"x\": 0.05}, \"xaxis\": {\"automargin\": true, \"gridcolor\": \"white\", \"linecolor\": \"white\", \"ticks\": \"\", \"title\": {\"standoff\": 15}, \"zerolinecolor\": \"white\", \"zerolinewidth\": 2}, \"yaxis\": {\"automargin\": true, \"gridcolor\": \"white\", \"linecolor\": \"white\", \"ticks\": \"\", \"title\": {\"standoff\": 15}, \"zerolinecolor\": \"white\", \"zerolinewidth\": 2}}}, \"xaxis\": {\"anchor\": \"y\", \"domain\": [0.0, 1.0], \"title\": {\"text\": \"__time\"}}, \"yaxis\": {\"anchor\": \"x\", \"domain\": [0.0, 1.0], \"title\": {\"text\": \"avg_speed\"}}},\n",
       "                        {\"responsive\": true}\n",
       "                    ).then(function(){\n",
       "                            \n",
       "var gd = document.getElementById('91001f44-df54-4ee1-93ea-1547200263a7');\n",
       "var x = new MutationObserver(function (mutations, observer) {{\n",
       "        var display = window.getComputedStyle(gd).display;\n",
       "        if (!display || display === 'none') {{\n",
       "            console.log([gd, 'removed!']);\n",
       "            Plotly.purge(gd);\n",
       "            observer.disconnect();\n",
       "        }}\n",
       "}});\n",
       "\n",
       "// Listen for the removal of the full notebook cells\n",
       "var notebookContainer = gd.closest('#notebook-container');\n",
       "if (notebookContainer) {{\n",
       "    x.observe(notebookContainer, {childList: true});\n",
       "}}\n",
       "\n",
       "// Listen for the clearing of the current output cell\n",
       "var outputEl = gd.closest('.output');\n",
       "if (outputEl) {{\n",
       "    x.observe(outputEl, {childList: true});\n",
       "}}\n",
       "\n",
       "                        })\n",
       "                };\n",
       "                });\n",
       "            </script>\n",
       "        </div>"
      ]
     },
     "metadata": {},
     "output_type": "display_data"
    },
    {
     "data": {
      "application/vnd.plotly.v1+json": {
       "config": {
        "plotlyServerURL": "https://plot.ly"
       },
       "data": [
        {
         "hovertemplate": "__time=%{x}<br>avg_speed=%{y}<extra></extra>",
         "legendgroup": "",
         "line": {
          "color": "#636efa",
          "dash": "solid"
         },
         "mode": "lines",
         "name": "",
         "showlegend": false,
         "type": "scatter",
         "x": [
          "2019-01-01T00:14:00.000Z",
          "2019-01-01T00:29:00.000Z",
          "2019-01-01T00:44:00.000Z",
          "2019-01-01T00:59:00.000Z",
          "2019-01-01T01:14:00.000Z",
          "2019-01-01T01:29:00.000Z",
          "2019-01-01T01:44:00.000Z",
          "2019-01-01T01:59:00.000Z",
          "2019-01-01T02:14:00.000Z",
          "2019-01-01T02:29:00.000Z",
          "2019-01-01T02:44:00.000Z",
          "2019-01-01T02:59:00.000Z",
          "2019-01-01T03:14:00.000Z",
          "2019-01-01T03:29:00.000Z",
          "2019-01-01T03:44:00.000Z",
          "2019-01-01T03:59:00.000Z",
          "2019-01-01T04:14:00.000Z",
          "2019-01-01T04:29:00.000Z",
          "2019-01-01T04:44:00.000Z",
          "2019-01-01T04:59:00.000Z",
          "2019-01-01T05:14:00.000Z",
          "2019-01-01T05:29:00.000Z",
          "2019-01-01T05:44:00.000Z",
          "2019-01-01T05:59:00.000Z",
          "2019-01-01T06:14:00.000Z",
          "2019-01-01T06:29:00.000Z",
          "2019-01-01T06:44:00.000Z",
          "2019-01-01T06:59:00.000Z",
          "2019-01-01T07:14:00.000Z",
          "2019-01-01T07:29:00.000Z",
          "2019-01-01T07:44:00.000Z",
          "2019-01-01T07:59:00.000Z",
          "2019-01-01T08:14:00.000Z",
          "2019-01-01T08:29:00.000Z",
          "2019-01-01T08:44:00.000Z",
          "2019-01-01T08:59:00.000Z",
          "2019-01-01T09:14:00.000Z",
          "2019-01-01T09:29:00.000Z",
          "2019-01-01T09:44:00.000Z",
          "2019-01-01T09:59:00.000Z",
          "2019-01-01T10:14:00.000Z",
          "2019-01-01T10:29:00.000Z",
          "2019-01-01T10:44:00.000Z",
          "2019-01-01T10:59:00.000Z",
          "2019-01-01T11:14:00.000Z",
          "2019-01-01T11:29:00.000Z",
          "2019-01-01T11:44:00.000Z",
          "2019-01-01T11:59:00.000Z",
          "2019-01-01T12:14:00.000Z",
          "2019-01-01T12:29:00.000Z",
          "2019-01-01T12:44:00.000Z",
          "2019-01-01T12:59:00.000Z",
          "2019-01-01T13:14:00.000Z",
          "2019-01-01T13:29:00.000Z",
          "2019-01-01T13:44:00.000Z",
          "2019-01-01T13:59:00.000Z",
          "2019-01-01T14:14:00.000Z",
          "2019-01-01T14:29:00.000Z",
          "2019-01-01T14:44:00.000Z",
          "2019-01-01T14:59:00.000Z",
          "2019-01-01T15:14:00.000Z",
          "2019-01-01T15:29:00.000Z",
          "2019-01-01T15:44:00.000Z",
          "2019-01-01T15:59:00.000Z",
          "2019-01-01T16:14:00.000Z",
          "2019-01-01T16:29:00.000Z",
          "2019-01-01T16:44:00.000Z",
          "2019-01-01T16:59:00.000Z",
          "2019-01-01T17:14:00.000Z",
          "2019-01-01T17:29:00.000Z",
          "2019-01-01T17:44:00.000Z",
          "2019-01-01T17:59:00.000Z",
          "2019-01-01T18:14:00.000Z",
          "2019-01-01T18:29:00.000Z",
          "2019-01-01T18:44:00.000Z",
          "2019-01-01T18:59:00.000Z",
          "2019-01-01T19:14:00.000Z",
          "2019-01-01T19:29:00.000Z",
          "2019-01-01T19:44:00.000Z",
          "2019-01-01T19:59:00.000Z",
          "2019-01-01T20:14:00.000Z",
          "2019-01-01T20:29:00.000Z",
          "2019-01-01T20:44:00.000Z",
          "2019-01-01T20:59:00.000Z",
          "2019-01-01T21:14:00.000Z",
          "2019-01-01T21:29:00.000Z",
          "2019-01-01T21:44:00.000Z",
          "2019-01-01T21:59:00.000Z",
          "2019-01-01T22:14:00.000Z",
          "2019-01-01T22:29:00.000Z",
          "2019-01-01T22:44:00.000Z",
          "2019-01-01T22:59:00.000Z",
          "2019-01-01T23:14:00.000Z",
          "2019-01-01T23:29:00.000Z",
          "2019-01-01T23:44:00.000Z",
          "2019-01-01T23:59:00.000Z"
         ],
         "xaxis": "x",
         "y": [
          "66",
          "68",
          "65",
          "66",
          "65",
          "66",
          "65",
          "65",
          "68",
          "67",
          "66",
          "65",
          "66",
          "64",
          "64",
          "67",
          "65",
          "65",
          "66",
          "64",
          "66",
          "66",
          "63",
          "66",
          "65",
          "65",
          "65",
          "64",
          "65",
          "64",
          "63",
          "64",
          "64",
          "65",
          "65",
          "67",
          "67",
          "66",
          "66",
          "68",
          "66",
          "67",
          "67",
          "68",
          "67",
          "67",
          "66",
          "66",
          "66",
          "65",
          "65",
          "66",
          "65",
          "67",
          "65",
          "66",
          "67",
          "66",
          "68",
          "65",
          "63",
          "66",
          "64",
          "66",
          "66",
          "64",
          "64",
          "64",
          "64",
          "64",
          "64",
          "64",
          "65",
          "66",
          "66",
          "66",
          "66",
          "67",
          "66",
          "68",
          "67",
          "67",
          "68",
          "67",
          "65",
          "66",
          "66",
          "65",
          "66",
          "66",
          "66",
          "65",
          "64",
          "64",
          "66",
          "65"
         ],
         "yaxis": "y"
        }
       ],
       "layout": {
        "legend": {
         "tracegroupgap": 0
        },
        "margin": {
         "t": 60
        },
        "template": {
         "data": {
          "bar": [
           {
            "error_x": {
             "color": "#2a3f5f"
            },
            "error_y": {
             "color": "#2a3f5f"
            },
            "marker": {
             "line": {
              "color": "#E5ECF6",
              "width": 0.5
             }
            },
            "type": "bar"
           }
          ],
          "barpolar": [
           {
            "marker": {
             "line": {
              "color": "#E5ECF6",
              "width": 0.5
             }
            },
            "type": "barpolar"
           }
          ],
          "carpet": [
           {
            "aaxis": {
             "endlinecolor": "#2a3f5f",
             "gridcolor": "white",
             "linecolor": "white",
             "minorgridcolor": "white",
             "startlinecolor": "#2a3f5f"
            },
            "baxis": {
             "endlinecolor": "#2a3f5f",
             "gridcolor": "white",
             "linecolor": "white",
             "minorgridcolor": "white",
             "startlinecolor": "#2a3f5f"
            },
            "type": "carpet"
           }
          ],
          "choropleth": [
           {
            "colorbar": {
             "outlinewidth": 0,
             "ticks": ""
            },
            "type": "choropleth"
           }
          ],
          "contour": [
           {
            "colorbar": {
             "outlinewidth": 0,
             "ticks": ""
            },
            "colorscale": [
             [
              0,
              "#0d0887"
             ],
             [
              0.1111111111111111,
              "#46039f"
             ],
             [
              0.2222222222222222,
              "#7201a8"
             ],
             [
              0.3333333333333333,
              "#9c179e"
             ],
             [
              0.4444444444444444,
              "#bd3786"
             ],
             [
              0.5555555555555556,
              "#d8576b"
             ],
             [
              0.6666666666666666,
              "#ed7953"
             ],
             [
              0.7777777777777778,
              "#fb9f3a"
             ],
             [
              0.8888888888888888,
              "#fdca26"
             ],
             [
              1,
              "#f0f921"
             ]
            ],
            "type": "contour"
           }
          ],
          "contourcarpet": [
           {
            "colorbar": {
             "outlinewidth": 0,
             "ticks": ""
            },
            "type": "contourcarpet"
           }
          ],
          "heatmap": [
           {
            "colorbar": {
             "outlinewidth": 0,
             "ticks": ""
            },
            "colorscale": [
             [
              0,
              "#0d0887"
             ],
             [
              0.1111111111111111,
              "#46039f"
             ],
             [
              0.2222222222222222,
              "#7201a8"
             ],
             [
              0.3333333333333333,
              "#9c179e"
             ],
             [
              0.4444444444444444,
              "#bd3786"
             ],
             [
              0.5555555555555556,
              "#d8576b"
             ],
             [
              0.6666666666666666,
              "#ed7953"
             ],
             [
              0.7777777777777778,
              "#fb9f3a"
             ],
             [
              0.8888888888888888,
              "#fdca26"
             ],
             [
              1,
              "#f0f921"
             ]
            ],
            "type": "heatmap"
           }
          ],
          "heatmapgl": [
           {
            "colorbar": {
             "outlinewidth": 0,
             "ticks": ""
            },
            "colorscale": [
             [
              0,
              "#0d0887"
             ],
             [
              0.1111111111111111,
              "#46039f"
             ],
             [
              0.2222222222222222,
              "#7201a8"
             ],
             [
              0.3333333333333333,
              "#9c179e"
             ],
             [
              0.4444444444444444,
              "#bd3786"
             ],
             [
              0.5555555555555556,
              "#d8576b"
             ],
             [
              0.6666666666666666,
              "#ed7953"
             ],
             [
              0.7777777777777778,
              "#fb9f3a"
             ],
             [
              0.8888888888888888,
              "#fdca26"
             ],
             [
              1,
              "#f0f921"
             ]
            ],
            "type": "heatmapgl"
           }
          ],
          "histogram": [
           {
            "marker": {
             "colorbar": {
              "outlinewidth": 0,
              "ticks": ""
             }
            },
            "type": "histogram"
           }
          ],
          "histogram2d": [
           {
            "colorbar": {
             "outlinewidth": 0,
             "ticks": ""
            },
            "colorscale": [
             [
              0,
              "#0d0887"
             ],
             [
              0.1111111111111111,
              "#46039f"
             ],
             [
              0.2222222222222222,
              "#7201a8"
             ],
             [
              0.3333333333333333,
              "#9c179e"
             ],
             [
              0.4444444444444444,
              "#bd3786"
             ],
             [
              0.5555555555555556,
              "#d8576b"
             ],
             [
              0.6666666666666666,
              "#ed7953"
             ],
             [
              0.7777777777777778,
              "#fb9f3a"
             ],
             [
              0.8888888888888888,
              "#fdca26"
             ],
             [
              1,
              "#f0f921"
             ]
            ],
            "type": "histogram2d"
           }
          ],
          "histogram2dcontour": [
           {
            "colorbar": {
             "outlinewidth": 0,
             "ticks": ""
            },
            "colorscale": [
             [
              0,
              "#0d0887"
             ],
             [
              0.1111111111111111,
              "#46039f"
             ],
             [
              0.2222222222222222,
              "#7201a8"
             ],
             [
              0.3333333333333333,
              "#9c179e"
             ],
             [
              0.4444444444444444,
              "#bd3786"
             ],
             [
              0.5555555555555556,
              "#d8576b"
             ],
             [
              0.6666666666666666,
              "#ed7953"
             ],
             [
              0.7777777777777778,
              "#fb9f3a"
             ],
             [
              0.8888888888888888,
              "#fdca26"
             ],
             [
              1,
              "#f0f921"
             ]
            ],
            "type": "histogram2dcontour"
           }
          ],
          "mesh3d": [
           {
            "colorbar": {
             "outlinewidth": 0,
             "ticks": ""
            },
            "type": "mesh3d"
           }
          ],
          "parcoords": [
           {
            "line": {
             "colorbar": {
              "outlinewidth": 0,
              "ticks": ""
             }
            },
            "type": "parcoords"
           }
          ],
          "pie": [
           {
            "automargin": true,
            "type": "pie"
           }
          ],
          "scatter": [
           {
            "marker": {
             "colorbar": {
              "outlinewidth": 0,
              "ticks": ""
             }
            },
            "type": "scatter"
           }
          ],
          "scatter3d": [
           {
            "line": {
             "colorbar": {
              "outlinewidth": 0,
              "ticks": ""
             }
            },
            "marker": {
             "colorbar": {
              "outlinewidth": 0,
              "ticks": ""
             }
            },
            "type": "scatter3d"
           }
          ],
          "scattercarpet": [
           {
            "marker": {
             "colorbar": {
              "outlinewidth": 0,
              "ticks": ""
             }
            },
            "type": "scattercarpet"
           }
          ],
          "scattergeo": [
           {
            "marker": {
             "colorbar": {
              "outlinewidth": 0,
              "ticks": ""
             }
            },
            "type": "scattergeo"
           }
          ],
          "scattergl": [
           {
            "marker": {
             "colorbar": {
              "outlinewidth": 0,
              "ticks": ""
             }
            },
            "type": "scattergl"
           }
          ],
          "scattermapbox": [
           {
            "marker": {
             "colorbar": {
              "outlinewidth": 0,
              "ticks": ""
             }
            },
            "type": "scattermapbox"
           }
          ],
          "scatterpolar": [
           {
            "marker": {
             "colorbar": {
              "outlinewidth": 0,
              "ticks": ""
             }
            },
            "type": "scatterpolar"
           }
          ],
          "scatterpolargl": [
           {
            "marker": {
             "colorbar": {
              "outlinewidth": 0,
              "ticks": ""
             }
            },
            "type": "scatterpolargl"
           }
          ],
          "scatterternary": [
           {
            "marker": {
             "colorbar": {
              "outlinewidth": 0,
              "ticks": ""
             }
            },
            "type": "scatterternary"
           }
          ],
          "surface": [
           {
            "colorbar": {
             "outlinewidth": 0,
             "ticks": ""
            },
            "colorscale": [
             [
              0,
              "#0d0887"
             ],
             [
              0.1111111111111111,
              "#46039f"
             ],
             [
              0.2222222222222222,
              "#7201a8"
             ],
             [
              0.3333333333333333,
              "#9c179e"
             ],
             [
              0.4444444444444444,
              "#bd3786"
             ],
             [
              0.5555555555555556,
              "#d8576b"
             ],
             [
              0.6666666666666666,
              "#ed7953"
             ],
             [
              0.7777777777777778,
              "#fb9f3a"
             ],
             [
              0.8888888888888888,
              "#fdca26"
             ],
             [
              1,
              "#f0f921"
             ]
            ],
            "type": "surface"
           }
          ],
          "table": [
           {
            "cells": {
             "fill": {
              "color": "#EBF0F8"
             },
             "line": {
              "color": "white"
             }
            },
            "header": {
             "fill": {
              "color": "#C8D4E3"
             },
             "line": {
              "color": "white"
             }
            },
            "type": "table"
           }
          ]
         },
         "layout": {
          "annotationdefaults": {
           "arrowcolor": "#2a3f5f",
           "arrowhead": 0,
           "arrowwidth": 1
          },
          "coloraxis": {
           "colorbar": {
            "outlinewidth": 0,
            "ticks": ""
           }
          },
          "colorscale": {
           "diverging": [
            [
             0,
             "#8e0152"
            ],
            [
             0.1,
             "#c51b7d"
            ],
            [
             0.2,
             "#de77ae"
            ],
            [
             0.3,
             "#f1b6da"
            ],
            [
             0.4,
             "#fde0ef"
            ],
            [
             0.5,
             "#f7f7f7"
            ],
            [
             0.6,
             "#e6f5d0"
            ],
            [
             0.7,
             "#b8e186"
            ],
            [
             0.8,
             "#7fbc41"
            ],
            [
             0.9,
             "#4d9221"
            ],
            [
             1,
             "#276419"
            ]
           ],
           "sequential": [
            [
             0,
             "#0d0887"
            ],
            [
             0.1111111111111111,
             "#46039f"
            ],
            [
             0.2222222222222222,
             "#7201a8"
            ],
            [
             0.3333333333333333,
             "#9c179e"
            ],
            [
             0.4444444444444444,
             "#bd3786"
            ],
            [
             0.5555555555555556,
             "#d8576b"
            ],
            [
             0.6666666666666666,
             "#ed7953"
            ],
            [
             0.7777777777777778,
             "#fb9f3a"
            ],
            [
             0.8888888888888888,
             "#fdca26"
            ],
            [
             1,
             "#f0f921"
            ]
           ],
           "sequentialminus": [
            [
             0,
             "#0d0887"
            ],
            [
             0.1111111111111111,
             "#46039f"
            ],
            [
             0.2222222222222222,
             "#7201a8"
            ],
            [
             0.3333333333333333,
             "#9c179e"
            ],
            [
             0.4444444444444444,
             "#bd3786"
            ],
            [
             0.5555555555555556,
             "#d8576b"
            ],
            [
             0.6666666666666666,
             "#ed7953"
            ],
            [
             0.7777777777777778,
             "#fb9f3a"
            ],
            [
             0.8888888888888888,
             "#fdca26"
            ],
            [
             1,
             "#f0f921"
            ]
           ]
          },
          "colorway": [
           "#636efa",
           "#EF553B",
           "#00cc96",
           "#ab63fa",
           "#FFA15A",
           "#19d3f3",
           "#FF6692",
           "#B6E880",
           "#FF97FF",
           "#FECB52"
          ],
          "font": {
           "color": "#2a3f5f"
          },
          "geo": {
           "bgcolor": "white",
           "lakecolor": "white",
           "landcolor": "#E5ECF6",
           "showlakes": true,
           "showland": true,
           "subunitcolor": "white"
          },
          "hoverlabel": {
           "align": "left"
          },
          "hovermode": "closest",
          "mapbox": {
           "style": "light"
          },
          "paper_bgcolor": "white",
          "plot_bgcolor": "#E5ECF6",
          "polar": {
           "angularaxis": {
            "gridcolor": "white",
            "linecolor": "white",
            "ticks": ""
           },
           "bgcolor": "#E5ECF6",
           "radialaxis": {
            "gridcolor": "white",
            "linecolor": "white",
            "ticks": ""
           }
          },
          "scene": {
           "xaxis": {
            "backgroundcolor": "#E5ECF6",
            "gridcolor": "white",
            "gridwidth": 2,
            "linecolor": "white",
            "showbackground": true,
            "ticks": "",
            "zerolinecolor": "white"
           },
           "yaxis": {
            "backgroundcolor": "#E5ECF6",
            "gridcolor": "white",
            "gridwidth": 2,
            "linecolor": "white",
            "showbackground": true,
            "ticks": "",
            "zerolinecolor": "white"
           },
           "zaxis": {
            "backgroundcolor": "#E5ECF6",
            "gridcolor": "white",
            "gridwidth": 2,
            "linecolor": "white",
            "showbackground": true,
            "ticks": "",
            "zerolinecolor": "white"
           }
          },
          "shapedefaults": {
           "line": {
            "color": "#2a3f5f"
           }
          },
          "ternary": {
           "aaxis": {
            "gridcolor": "white",
            "linecolor": "white",
            "ticks": ""
           },
           "baxis": {
            "gridcolor": "white",
            "linecolor": "white",
            "ticks": ""
           },
           "bgcolor": "#E5ECF6",
           "caxis": {
            "gridcolor": "white",
            "linecolor": "white",
            "ticks": ""
           }
          },
          "title": {
           "x": 0.05
          },
          "xaxis": {
           "automargin": true,
           "gridcolor": "white",
           "linecolor": "white",
           "ticks": "",
           "title": {
            "standoff": 15
           },
           "zerolinecolor": "white",
           "zerolinewidth": 2
          },
          "yaxis": {
           "automargin": true,
           "gridcolor": "white",
           "linecolor": "white",
           "ticks": "",
           "title": {
            "standoff": 15
           },
           "zerolinecolor": "white",
           "zerolinewidth": 2
          }
         }
        },
        "xaxis": {
         "anchor": "y",
         "domain": [
          0,
          1
         ],
         "title": {
          "text": "__time"
         }
        },
        "yaxis": {
         "anchor": "x",
         "domain": [
          0,
          1
         ],
         "title": {
          "text": "avg_speed"
         }
        }
       }
      },
      "text/html": [
       "<div>\n",
       "        \n",
       "        \n",
       "            <div id=\"5471a4e1-45ab-48ef-98ff-ced31cce91e6\" class=\"plotly-graph-div\" style=\"height:525px; width:100%;\"></div>\n",
       "            <script type=\"text/javascript\">\n",
       "                require([\"plotly\"], function(Plotly) {\n",
       "                    window.PLOTLYENV=window.PLOTLYENV || {};\n",
       "                    \n",
       "                if (document.getElementById(\"5471a4e1-45ab-48ef-98ff-ced31cce91e6\")) {\n",
       "                    Plotly.newPlot(\n",
       "                        '5471a4e1-45ab-48ef-98ff-ced31cce91e6',\n",
       "                        [{\"hovertemplate\": \"__time=%{x}<br>avg_speed=%{y}<extra></extra>\", \"legendgroup\": \"\", \"line\": {\"color\": \"#636efa\", \"dash\": \"solid\"}, \"mode\": \"lines\", \"name\": \"\", \"showlegend\": false, \"type\": \"scatter\", \"x\": [\"2019-01-01T00:14:00.000Z\", \"2019-01-01T00:29:00.000Z\", \"2019-01-01T00:44:00.000Z\", \"2019-01-01T00:59:00.000Z\", \"2019-01-01T01:14:00.000Z\", \"2019-01-01T01:29:00.000Z\", \"2019-01-01T01:44:00.000Z\", \"2019-01-01T01:59:00.000Z\", \"2019-01-01T02:14:00.000Z\", \"2019-01-01T02:29:00.000Z\", \"2019-01-01T02:44:00.000Z\", \"2019-01-01T02:59:00.000Z\", \"2019-01-01T03:14:00.000Z\", \"2019-01-01T03:29:00.000Z\", \"2019-01-01T03:44:00.000Z\", \"2019-01-01T03:59:00.000Z\", \"2019-01-01T04:14:00.000Z\", \"2019-01-01T04:29:00.000Z\", \"2019-01-01T04:44:00.000Z\", \"2019-01-01T04:59:00.000Z\", \"2019-01-01T05:14:00.000Z\", \"2019-01-01T05:29:00.000Z\", \"2019-01-01T05:44:00.000Z\", \"2019-01-01T05:59:00.000Z\", \"2019-01-01T06:14:00.000Z\", \"2019-01-01T06:29:00.000Z\", \"2019-01-01T06:44:00.000Z\", \"2019-01-01T06:59:00.000Z\", \"2019-01-01T07:14:00.000Z\", \"2019-01-01T07:29:00.000Z\", \"2019-01-01T07:44:00.000Z\", \"2019-01-01T07:59:00.000Z\", \"2019-01-01T08:14:00.000Z\", \"2019-01-01T08:29:00.000Z\", \"2019-01-01T08:44:00.000Z\", \"2019-01-01T08:59:00.000Z\", \"2019-01-01T09:14:00.000Z\", \"2019-01-01T09:29:00.000Z\", \"2019-01-01T09:44:00.000Z\", \"2019-01-01T09:59:00.000Z\", \"2019-01-01T10:14:00.000Z\", \"2019-01-01T10:29:00.000Z\", \"2019-01-01T10:44:00.000Z\", \"2019-01-01T10:59:00.000Z\", \"2019-01-01T11:14:00.000Z\", \"2019-01-01T11:29:00.000Z\", \"2019-01-01T11:44:00.000Z\", \"2019-01-01T11:59:00.000Z\", \"2019-01-01T12:14:00.000Z\", \"2019-01-01T12:29:00.000Z\", \"2019-01-01T12:44:00.000Z\", \"2019-01-01T12:59:00.000Z\", \"2019-01-01T13:14:00.000Z\", \"2019-01-01T13:29:00.000Z\", \"2019-01-01T13:44:00.000Z\", \"2019-01-01T13:59:00.000Z\", \"2019-01-01T14:14:00.000Z\", \"2019-01-01T14:29:00.000Z\", \"2019-01-01T14:44:00.000Z\", \"2019-01-01T14:59:00.000Z\", \"2019-01-01T15:14:00.000Z\", \"2019-01-01T15:29:00.000Z\", \"2019-01-01T15:44:00.000Z\", \"2019-01-01T15:59:00.000Z\", \"2019-01-01T16:14:00.000Z\", \"2019-01-01T16:29:00.000Z\", \"2019-01-01T16:44:00.000Z\", \"2019-01-01T16:59:00.000Z\", \"2019-01-01T17:14:00.000Z\", \"2019-01-01T17:29:00.000Z\", \"2019-01-01T17:44:00.000Z\", \"2019-01-01T17:59:00.000Z\", \"2019-01-01T18:14:00.000Z\", \"2019-01-01T18:29:00.000Z\", \"2019-01-01T18:44:00.000Z\", \"2019-01-01T18:59:00.000Z\", \"2019-01-01T19:14:00.000Z\", \"2019-01-01T19:29:00.000Z\", \"2019-01-01T19:44:00.000Z\", \"2019-01-01T19:59:00.000Z\", \"2019-01-01T20:14:00.000Z\", \"2019-01-01T20:29:00.000Z\", \"2019-01-01T20:44:00.000Z\", \"2019-01-01T20:59:00.000Z\", \"2019-01-01T21:14:00.000Z\", \"2019-01-01T21:29:00.000Z\", \"2019-01-01T21:44:00.000Z\", \"2019-01-01T21:59:00.000Z\", \"2019-01-01T22:14:00.000Z\", \"2019-01-01T22:29:00.000Z\", \"2019-01-01T22:44:00.000Z\", \"2019-01-01T22:59:00.000Z\", \"2019-01-01T23:14:00.000Z\", \"2019-01-01T23:29:00.000Z\", \"2019-01-01T23:44:00.000Z\", \"2019-01-01T23:59:00.000Z\"], \"xaxis\": \"x\", \"y\": [\"66\", \"68\", \"65\", \"66\", \"65\", \"66\", \"65\", \"65\", \"68\", \"67\", \"66\", \"65\", \"66\", \"64\", \"64\", \"67\", \"65\", \"65\", \"66\", \"64\", \"66\", \"66\", \"63\", \"66\", \"65\", \"65\", \"65\", \"64\", \"65\", \"64\", \"63\", \"64\", \"64\", \"65\", \"65\", \"67\", \"67\", \"66\", \"66\", \"68\", \"66\", \"67\", \"67\", \"68\", \"67\", \"67\", \"66\", \"66\", \"66\", \"65\", \"65\", \"66\", \"65\", \"67\", \"65\", \"66\", \"67\", \"66\", \"68\", \"65\", \"63\", \"66\", \"64\", \"66\", \"66\", \"64\", \"64\", \"64\", \"64\", \"64\", \"64\", \"64\", \"65\", \"66\", \"66\", \"66\", \"66\", \"67\", \"66\", \"68\", \"67\", \"67\", \"68\", \"67\", \"65\", \"66\", \"66\", \"65\", \"66\", \"66\", \"66\", \"65\", \"64\", \"64\", \"66\", \"65\"], \"yaxis\": \"y\"}],\n",
       "                        {\"legend\": {\"tracegroupgap\": 0}, \"margin\": {\"t\": 60}, \"template\": {\"data\": {\"bar\": [{\"error_x\": {\"color\": \"#2a3f5f\"}, \"error_y\": {\"color\": \"#2a3f5f\"}, \"marker\": {\"line\": {\"color\": \"#E5ECF6\", \"width\": 0.5}}, \"type\": \"bar\"}], \"barpolar\": [{\"marker\": {\"line\": {\"color\": \"#E5ECF6\", \"width\": 0.5}}, \"type\": \"barpolar\"}], \"carpet\": [{\"aaxis\": {\"endlinecolor\": \"#2a3f5f\", \"gridcolor\": \"white\", \"linecolor\": \"white\", \"minorgridcolor\": \"white\", \"startlinecolor\": \"#2a3f5f\"}, \"baxis\": {\"endlinecolor\": \"#2a3f5f\", \"gridcolor\": \"white\", \"linecolor\": \"white\", \"minorgridcolor\": \"white\", \"startlinecolor\": \"#2a3f5f\"}, \"type\": \"carpet\"}], \"choropleth\": [{\"colorbar\": {\"outlinewidth\": 0, \"ticks\": \"\"}, \"type\": \"choropleth\"}], \"contour\": [{\"colorbar\": {\"outlinewidth\": 0, \"ticks\": \"\"}, \"colorscale\": [[0.0, \"#0d0887\"], [0.1111111111111111, \"#46039f\"], [0.2222222222222222, \"#7201a8\"], [0.3333333333333333, \"#9c179e\"], [0.4444444444444444, \"#bd3786\"], [0.5555555555555556, \"#d8576b\"], [0.6666666666666666, \"#ed7953\"], [0.7777777777777778, \"#fb9f3a\"], [0.8888888888888888, \"#fdca26\"], [1.0, \"#f0f921\"]], \"type\": \"contour\"}], \"contourcarpet\": [{\"colorbar\": {\"outlinewidth\": 0, \"ticks\": \"\"}, \"type\": \"contourcarpet\"}], \"heatmap\": [{\"colorbar\": {\"outlinewidth\": 0, \"ticks\": \"\"}, \"colorscale\": [[0.0, \"#0d0887\"], [0.1111111111111111, \"#46039f\"], [0.2222222222222222, \"#7201a8\"], [0.3333333333333333, \"#9c179e\"], [0.4444444444444444, \"#bd3786\"], [0.5555555555555556, \"#d8576b\"], [0.6666666666666666, \"#ed7953\"], [0.7777777777777778, \"#fb9f3a\"], [0.8888888888888888, \"#fdca26\"], [1.0, \"#f0f921\"]], \"type\": \"heatmap\"}], \"heatmapgl\": [{\"colorbar\": {\"outlinewidth\": 0, \"ticks\": \"\"}, \"colorscale\": [[0.0, \"#0d0887\"], [0.1111111111111111, \"#46039f\"], [0.2222222222222222, \"#7201a8\"], [0.3333333333333333, \"#9c179e\"], [0.4444444444444444, \"#bd3786\"], [0.5555555555555556, \"#d8576b\"], [0.6666666666666666, \"#ed7953\"], [0.7777777777777778, \"#fb9f3a\"], [0.8888888888888888, \"#fdca26\"], [1.0, \"#f0f921\"]], \"type\": \"heatmapgl\"}], \"histogram\": [{\"marker\": {\"colorbar\": {\"outlinewidth\": 0, \"ticks\": \"\"}}, \"type\": \"histogram\"}], \"histogram2d\": [{\"colorbar\": {\"outlinewidth\": 0, \"ticks\": \"\"}, \"colorscale\": [[0.0, \"#0d0887\"], [0.1111111111111111, \"#46039f\"], [0.2222222222222222, \"#7201a8\"], [0.3333333333333333, \"#9c179e\"], [0.4444444444444444, \"#bd3786\"], [0.5555555555555556, \"#d8576b\"], [0.6666666666666666, \"#ed7953\"], [0.7777777777777778, \"#fb9f3a\"], [0.8888888888888888, \"#fdca26\"], [1.0, \"#f0f921\"]], \"type\": \"histogram2d\"}], \"histogram2dcontour\": [{\"colorbar\": {\"outlinewidth\": 0, \"ticks\": \"\"}, \"colorscale\": [[0.0, \"#0d0887\"], [0.1111111111111111, \"#46039f\"], [0.2222222222222222, \"#7201a8\"], [0.3333333333333333, \"#9c179e\"], [0.4444444444444444, \"#bd3786\"], [0.5555555555555556, \"#d8576b\"], [0.6666666666666666, \"#ed7953\"], [0.7777777777777778, \"#fb9f3a\"], [0.8888888888888888, \"#fdca26\"], [1.0, \"#f0f921\"]], \"type\": \"histogram2dcontour\"}], \"mesh3d\": [{\"colorbar\": {\"outlinewidth\": 0, \"ticks\": \"\"}, \"type\": \"mesh3d\"}], \"parcoords\": [{\"line\": {\"colorbar\": {\"outlinewidth\": 0, \"ticks\": \"\"}}, \"type\": \"parcoords\"}], \"pie\": [{\"automargin\": true, \"type\": \"pie\"}], \"scatter\": [{\"marker\": {\"colorbar\": {\"outlinewidth\": 0, \"ticks\": \"\"}}, \"type\": \"scatter\"}], \"scatter3d\": [{\"line\": {\"colorbar\": {\"outlinewidth\": 0, \"ticks\": \"\"}}, \"marker\": {\"colorbar\": {\"outlinewidth\": 0, \"ticks\": \"\"}}, \"type\": \"scatter3d\"}], \"scattercarpet\": [{\"marker\": {\"colorbar\": {\"outlinewidth\": 0, \"ticks\": \"\"}}, \"type\": \"scattercarpet\"}], \"scattergeo\": [{\"marker\": {\"colorbar\": {\"outlinewidth\": 0, \"ticks\": \"\"}}, \"type\": \"scattergeo\"}], \"scattergl\": [{\"marker\": {\"colorbar\": {\"outlinewidth\": 0, \"ticks\": \"\"}}, \"type\": \"scattergl\"}], \"scattermapbox\": [{\"marker\": {\"colorbar\": {\"outlinewidth\": 0, \"ticks\": \"\"}}, \"type\": \"scattermapbox\"}], \"scatterpolar\": [{\"marker\": {\"colorbar\": {\"outlinewidth\": 0, \"ticks\": \"\"}}, \"type\": \"scatterpolar\"}], \"scatterpolargl\": [{\"marker\": {\"colorbar\": {\"outlinewidth\": 0, \"ticks\": \"\"}}, \"type\": \"scatterpolargl\"}], \"scatterternary\": [{\"marker\": {\"colorbar\": {\"outlinewidth\": 0, \"ticks\": \"\"}}, \"type\": \"scatterternary\"}], \"surface\": [{\"colorbar\": {\"outlinewidth\": 0, \"ticks\": \"\"}, \"colorscale\": [[0.0, \"#0d0887\"], [0.1111111111111111, \"#46039f\"], [0.2222222222222222, \"#7201a8\"], [0.3333333333333333, \"#9c179e\"], [0.4444444444444444, \"#bd3786\"], [0.5555555555555556, \"#d8576b\"], [0.6666666666666666, \"#ed7953\"], [0.7777777777777778, \"#fb9f3a\"], [0.8888888888888888, \"#fdca26\"], [1.0, \"#f0f921\"]], \"type\": \"surface\"}], \"table\": [{\"cells\": {\"fill\": {\"color\": \"#EBF0F8\"}, \"line\": {\"color\": \"white\"}}, \"header\": {\"fill\": {\"color\": \"#C8D4E3\"}, \"line\": {\"color\": \"white\"}}, \"type\": \"table\"}]}, \"layout\": {\"annotationdefaults\": {\"arrowcolor\": \"#2a3f5f\", \"arrowhead\": 0, \"arrowwidth\": 1}, \"coloraxis\": {\"colorbar\": {\"outlinewidth\": 0, \"ticks\": \"\"}}, \"colorscale\": {\"diverging\": [[0, \"#8e0152\"], [0.1, \"#c51b7d\"], [0.2, \"#de77ae\"], [0.3, \"#f1b6da\"], [0.4, \"#fde0ef\"], [0.5, \"#f7f7f7\"], [0.6, \"#e6f5d0\"], [0.7, \"#b8e186\"], [0.8, \"#7fbc41\"], [0.9, \"#4d9221\"], [1, \"#276419\"]], \"sequential\": [[0.0, \"#0d0887\"], [0.1111111111111111, \"#46039f\"], [0.2222222222222222, \"#7201a8\"], [0.3333333333333333, \"#9c179e\"], [0.4444444444444444, \"#bd3786\"], [0.5555555555555556, \"#d8576b\"], [0.6666666666666666, \"#ed7953\"], [0.7777777777777778, \"#fb9f3a\"], [0.8888888888888888, \"#fdca26\"], [1.0, \"#f0f921\"]], \"sequentialminus\": [[0.0, \"#0d0887\"], [0.1111111111111111, \"#46039f\"], [0.2222222222222222, \"#7201a8\"], [0.3333333333333333, \"#9c179e\"], [0.4444444444444444, \"#bd3786\"], [0.5555555555555556, \"#d8576b\"], [0.6666666666666666, \"#ed7953\"], [0.7777777777777778, \"#fb9f3a\"], [0.8888888888888888, \"#fdca26\"], [1.0, \"#f0f921\"]]}, \"colorway\": [\"#636efa\", \"#EF553B\", \"#00cc96\", \"#ab63fa\", \"#FFA15A\", \"#19d3f3\", \"#FF6692\", \"#B6E880\", \"#FF97FF\", \"#FECB52\"], \"font\": {\"color\": \"#2a3f5f\"}, \"geo\": {\"bgcolor\": \"white\", \"lakecolor\": \"white\", \"landcolor\": \"#E5ECF6\", \"showlakes\": true, \"showland\": true, \"subunitcolor\": \"white\"}, \"hoverlabel\": {\"align\": \"left\"}, \"hovermode\": \"closest\", \"mapbox\": {\"style\": \"light\"}, \"paper_bgcolor\": \"white\", \"plot_bgcolor\": \"#E5ECF6\", \"polar\": {\"angularaxis\": {\"gridcolor\": \"white\", \"linecolor\": \"white\", \"ticks\": \"\"}, \"bgcolor\": \"#E5ECF6\", \"radialaxis\": {\"gridcolor\": \"white\", \"linecolor\": \"white\", \"ticks\": \"\"}}, \"scene\": {\"xaxis\": {\"backgroundcolor\": \"#E5ECF6\", \"gridcolor\": \"white\", \"gridwidth\": 2, \"linecolor\": \"white\", \"showbackground\": true, \"ticks\": \"\", \"zerolinecolor\": \"white\"}, \"yaxis\": {\"backgroundcolor\": \"#E5ECF6\", \"gridcolor\": \"white\", \"gridwidth\": 2, \"linecolor\": \"white\", \"showbackground\": true, \"ticks\": \"\", \"zerolinecolor\": \"white\"}, \"zaxis\": {\"backgroundcolor\": \"#E5ECF6\", \"gridcolor\": \"white\", \"gridwidth\": 2, \"linecolor\": \"white\", \"showbackground\": true, \"ticks\": \"\", \"zerolinecolor\": \"white\"}}, \"shapedefaults\": {\"line\": {\"color\": \"#2a3f5f\"}}, \"ternary\": {\"aaxis\": {\"gridcolor\": \"white\", \"linecolor\": \"white\", \"ticks\": \"\"}, \"baxis\": {\"gridcolor\": \"white\", \"linecolor\": \"white\", \"ticks\": \"\"}, \"bgcolor\": \"#E5ECF6\", \"caxis\": {\"gridcolor\": \"white\", \"linecolor\": \"white\", \"ticks\": \"\"}}, \"title\": {\"x\": 0.05}, \"xaxis\": {\"automargin\": true, \"gridcolor\": \"white\", \"linecolor\": \"white\", \"ticks\": \"\", \"title\": {\"standoff\": 15}, \"zerolinecolor\": \"white\", \"zerolinewidth\": 2}, \"yaxis\": {\"automargin\": true, \"gridcolor\": \"white\", \"linecolor\": \"white\", \"ticks\": \"\", \"title\": {\"standoff\": 15}, \"zerolinecolor\": \"white\", \"zerolinewidth\": 2}}}, \"xaxis\": {\"anchor\": \"y\", \"domain\": [0.0, 1.0], \"title\": {\"text\": \"__time\"}}, \"yaxis\": {\"anchor\": \"x\", \"domain\": [0.0, 1.0], \"title\": {\"text\": \"avg_speed\"}}},\n",
       "                        {\"responsive\": true}\n",
       "                    ).then(function(){\n",
       "                            \n",
       "var gd = document.getElementById('5471a4e1-45ab-48ef-98ff-ced31cce91e6');\n",
       "var x = new MutationObserver(function (mutations, observer) {{\n",
       "        var display = window.getComputedStyle(gd).display;\n",
       "        if (!display || display === 'none') {{\n",
       "            console.log([gd, 'removed!']);\n",
       "            Plotly.purge(gd);\n",
       "            observer.disconnect();\n",
       "        }}\n",
       "}});\n",
       "\n",
       "// Listen for the removal of the full notebook cells\n",
       "var notebookContainer = gd.closest('#notebook-container');\n",
       "if (notebookContainer) {{\n",
       "    x.observe(notebookContainer, {childList: true});\n",
       "}}\n",
       "\n",
       "// Listen for the clearing of the current output cell\n",
       "var outputEl = gd.closest('.output');\n",
       "if (outputEl) {{\n",
       "    x.observe(outputEl, {childList: true});\n",
       "}}\n",
       "\n",
       "                        })\n",
       "                };\n",
       "                });\n",
       "            </script>\n",
       "        </div>"
      ]
     },
     "metadata": {},
     "output_type": "display_data"
    }
   ],
   "source": [
    "from plotly import graph_objs as go\n",
    "import plotly.express as px\n",
    "\n",
    "\n",
    "grouped = df.groupby('site')\n",
    "\n",
    "for name, group in df.groupby('site'):    \n",
    "    fig = px.line(group, x=group['__time'], y=group['avg_speed'])\n",
    "    fig.show()"
   ]
  },
  {
   "cell_type": "code",
   "execution_count": null,
   "metadata": {},
   "outputs": [],
   "source": []
  }
 ],
 "metadata": {
  "kernelspec": {
   "display_name": "Python 3",
   "language": "python",
   "name": "python3"
  },
  "language_info": {
   "codemirror_mode": {
    "name": "ipython",
    "version": 3
   },
   "file_extension": ".py",
   "mimetype": "text/x-python",
   "name": "python",
   "nbconvert_exporter": "python",
   "pygments_lexer": "ipython3",
   "version": "3.7.7"
  }
 },
 "nbformat": 4,
 "nbformat_minor": 4
}
